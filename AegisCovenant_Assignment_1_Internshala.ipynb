{
 "cells": [
  {
   "cell_type": "code",
   "execution_count": 1,
   "id": "f78a5bf2",
   "metadata": {},
   "outputs": [],
   "source": [
    "#Import Liberaries\n",
    "import PyPDF2\n",
    "import re"
   ]
  },
  {
   "cell_type": "code",
   "execution_count": 2,
   "id": "06ef9c96",
   "metadata": {},
   "outputs": [
    {
     "name": "stdout",
     "output_type": "stream",
     "text": [
      "AWS of fers you a pay-as-you-go approach for pricing for the vast majority of our cloud\n",
      "services. With AWS you pay only for the individual services you need, for as long as you\n",
      "use them, and without requiring long-term contracts or complex licensing. AWS pricing\n",
      "is similar to how you pay for utilities like water and electricity . You only pay for the\n",
      "services you consume, and once you stop using them, there are no additional costs or\n",
      "termination fees\n",
      "AWS Lambda Pricing\n",
      "Id\n",
      "Architecture\n",
      "Duration\n",
      "Requests\n",
      "0\n",
      "First 6 Billion GB-seconds / month\n",
      "$0.0000166667 for\n",
      "every GB-second\n",
      "$0.20 per 1M\n",
      "requests\n",
      "1\n",
      "Next 9 Billion GB-seconds / month\n",
      "$0.000015 for every\n",
      "GB-second\n",
      "$0.20 per 1M\n",
      "requests\n",
      "2\n",
      "Over 15 Billion GB-seconds / month\n",
      "$0.0000133334 for\n",
      "every GB-second\n",
      "$0.20 per 1M\n",
      "requests\n",
      "3\n",
      "First 7.5 Billion GB-seconds / month\n",
      "$0.0000133334 for\n",
      "every GB-second\n",
      "$0.20 per 1M\n",
      "requests\n",
      "4\n",
      "Next 1 1.25 Billion GB-seconds / month\n",
      "$0.0000120001 for\n",
      "every GB-second\n",
      "$0.20 per 1M\n",
      "requests\n",
      "5\n",
      "Over 18.75 Billion GB-seconds / month\n",
      "$0.0000106667 for\n",
      "every GB-second\n",
      "$0.20 per 1M\n",
      "requests\n"
     ]
    }
   ],
   "source": [
    "# Open the PDF file in read binary mode\n",
    "with open(\"AWS Lambda Pricing.pdf\", 'rb') as pdfFile:\n",
    "    reader = PyPDF2.PdfReader(pdfFile) # Create a PDF reader object\n",
    "    givenpage = reader.pages[0]\n",
    "    text = givenpage.extract_text() # Initialize an empty string to store the extracted text\n",
    "    print(text)"
   ]
  },
  {
   "cell_type": "code",
   "execution_count": 3,
   "id": "e3d643d7",
   "metadata": {},
   "outputs": [],
   "source": [
    "rex = re.compile(\"(?<=fees)(.*)\", re.DOTALL)"
   ]
  },
  {
   "cell_type": "code",
   "execution_count": 4,
   "id": "01e57ea5",
   "metadata": {},
   "outputs": [],
   "source": [
    "body=re.search(rex, text).group(0)"
   ]
  },
  {
   "cell_type": "code",
   "execution_count": 5,
   "id": "98254067",
   "metadata": {},
   "outputs": [
    {
     "data": {
      "text/plain": [
       "'\\nAWS Lambda Pricing\\nId\\nArchitecture\\nDuration\\nRequests\\n0\\nFirst 6 Billion GB-seconds / month\\n$0.0000166667 for\\nevery GB-second\\n$0.20 per 1M\\nrequests\\n1\\nNext 9 Billion GB-seconds / month\\n$0.000015 for every\\nGB-second\\n$0.20 per 1M\\nrequests\\n2\\nOver 15 Billion GB-seconds / month\\n$0.0000133334 for\\nevery GB-second\\n$0.20 per 1M\\nrequests\\n3\\nFirst 7.5 Billion GB-seconds / month\\n$0.0000133334 for\\nevery GB-second\\n$0.20 per 1M\\nrequests\\n4\\nNext 1 1.25 Billion GB-seconds / month\\n$0.0000120001 for\\nevery GB-second\\n$0.20 per 1M\\nrequests\\n5\\nOver 18.75 Billion GB-seconds / month\\n$0.0000106667 for\\nevery GB-second\\n$0.20 per 1M\\nrequests'"
      ]
     },
     "execution_count": 5,
     "metadata": {},
     "output_type": "execute_result"
    }
   ],
   "source": [
    "body"
   ]
  },
  {
   "cell_type": "code",
   "execution_count": 6,
   "id": "e036b8c6",
   "metadata": {},
   "outputs": [
    {
     "name": "stdout",
     "output_type": "stream",
     "text": [
      "{\n",
      "  \"output\": [\n",
      "    {\n",
      "      \"id\": \"0\",\n",
      "      \"Architecture\": \"First 6 Billion GB-seconds / month\",\n",
      "      \"Duration\": \"$0.0000166667 for\",\n",
      "      \"Requests\": \"every GB-second\"\n",
      "    },\n",
      "    {\n",
      "      \"id\": \"1\",\n",
      "      \"Architecture\": \"Next 9 Billion GB-seconds / month\",\n",
      "      \"Duration\": \"$0.000015 for every\",\n",
      "      \"Requests\": \"GB-second\"\n",
      "    },\n",
      "    {\n",
      "      \"id\": \"2\",\n",
      "      \"Architecture\": \"Over 15 Billion GB-seconds / month\",\n",
      "      \"Duration\": \"$0.0000133334 for\",\n",
      "      \"Requests\": \"every GB-second\"\n",
      "    },\n",
      "    {\n",
      "      \"id\": \"3\",\n",
      "      \"Architecture\": \"First 7.5 Billion GB-seconds / month\",\n",
      "      \"Duration\": \"$0.0000133334 for\",\n",
      "      \"Requests\": \"every GB-second\"\n",
      "    },\n",
      "    {\n",
      "      \"id\": \"4\",\n",
      "      \"Architecture\": \"Next 1 1.25 Billion GB-seconds / month\",\n",
      "      \"Duration\": \"$0.0000120001 for\",\n",
      "      \"Requests\": \"every GB-second\"\n",
      "    },\n",
      "    {\n",
      "      \"id\": \"5\",\n",
      "      \"Architecture\": \"Over 18.75 Billion GB-seconds / month\",\n",
      "      \"Duration\": \"$0.0000106667 for\",\n",
      "      \"Requests\": \"every GB-second\"\n",
      "    }\n",
      "  ]\n",
      "}\n"
     ]
    }
   ],
   "source": [
    "import json\n",
    "\n",
    "# input string\n",
    "input_str = '\\nAWS Lambda Pricing\\nId\\nArchitecture\\nDuration\\nRequests\\n0\\nFirst 6 Billion GB-seconds / month\\n$0.0000166667 for\\nevery GB-second\\n$0.20 per 1M\\nrequests\\n1\\nNext 9 Billion GB-seconds / month\\n$0.000015 for every\\nGB-second\\n$0.20 per 1M\\nrequests\\n2\\nOver 15 Billion GB-seconds / month\\n$0.0000133334 for\\nevery GB-second\\n$0.20 per 1M\\nrequests\\n3\\nFirst 7.5 Billion GB-seconds / month\\n$0.0000133334 for\\nevery GB-second\\n$0.20 per 1M\\nrequests\\n4\\nNext 1 1.25 Billion GB-seconds / month\\n$0.0000120001 for\\nevery GB-second\\n$0.20 per 1M\\nrequests\\n5\\nOver 18.75 Billion GB-seconds / month\\n$0.0000106667 for\\nevery GB-second\\n$0.20 per 1M\\nrequests'\n",
    "\n",
    "# regex pattern to extract the data\n",
    "pattern = r'\\n(\\d+)\\n(.*?)\\n(.*?)\\n(.*?)\\n'\n",
    "\n",
    "# extract data using regex and convert to JSON\n",
    "output = []\n",
    "for match in re.finditer(pattern, input_str):\n",
    "    output.append({\n",
    "        'id': match.group(1),\n",
    "        'Architecture': match.group(2),\n",
    "        'Duration': match.group(3),\n",
    "        'Requests': match.group(4),\n",
    "    })\n",
    "\n",
    "result = {'output': output}\n",
    "\n",
    "# convert to JSON string and pretty print\n",
    "json_string = json.dumps(result, indent=2)\n",
    "print(json_string)"
   ]
  }
 ],
 "metadata": {
  "kernelspec": {
   "display_name": "Python 3 (ipykernel)",
   "language": "python",
   "name": "python3"
  },
  "language_info": {
   "codemirror_mode": {
    "name": "ipython",
    "version": 3
   },
   "file_extension": ".py",
   "mimetype": "text/x-python",
   "name": "python",
   "nbconvert_exporter": "python",
   "pygments_lexer": "ipython3",
   "version": "3.9.13"
  }
 },
 "nbformat": 4,
 "nbformat_minor": 5
}
